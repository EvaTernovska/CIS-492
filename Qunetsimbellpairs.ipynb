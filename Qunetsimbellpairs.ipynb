{
 "cells": [
  {
   "cell_type": "code",
   "execution_count": 4,
   "metadata": {},
   "outputs": [
    {
     "name": "stdout",
     "output_type": "stream",
     "text": [
      "Receiver protocol done\n",
      "Sending EPR pair\n"
     ]
    },
    {
     "name": "stdout",
     "output_type": "stream",
     "text": [
      "Measurement at Host 1 is: 1\n",
      "Host 1 sent EPR pair and encoded qubits to B\n",
      "Host 2 measured: 1\n"
     ]
    }
   ],
   "source": [
    "from qunetsim.components import Host\n",
    "from qunetsim.components import Network\n",
    "from qunetsim.objects import Logger\n",
    "from qunetsim.objects import Qubit\n",
    "\n",
    "Logger.DISABLED = True\n",
    "\n",
    "def protocol_1(host, receiver):\n",
    "    print('Sending EPR pair')\n",
    "    q1 = Qubit(host)\n",
    "    q2 = Qubit(host)\n",
    "    q1.H()\n",
    "    q1.cnot(q2)\n",
    "    host.send_qubit(receiver, q2)\n",
    "    print(f\"Measurement at Host 1 is: {q1.measure()}\")\n",
    "    print(f\"Host 1 sent EPR pair and encoded qubits to {receiver}\")\n",
    "\n",
    "def protocol_2(host, sender):\n",
    "    q = host.get_data_qubit(sender, wait=5)\n",
    "    # q is None if the wait time expired.\n",
    "    if q is not None:\n",
    "        print('Host 2 measured: %d' % q.measure())\n",
    "    else:\n",
    "        print('Host 2 did not receive an EPR pair')\n",
    "print('Receiver protocol done')\n",
    "\n",
    "def main():\n",
    "    network = Network.get_instance()\n",
    "    nodes = ['A', 'B']\n",
    "    network.start(nodes)\n",
    "\n",
    "    host_A = Host('A')\n",
    "    host_A.add_connection('B')\n",
    "    host_A.start()\n",
    "\n",
    "    host_B = Host('B')\n",
    "    host_B.add_connection('A')\n",
    "\n",
    "    host_B.start()\n",
    "    \n",
    "    network.add_host(host_A)\n",
    "    network.add_host(host_B)\n",
    "\n",
    "    host_A.run_protocol(protocol_1, (host_B.host_id,))\n",
    "    host_B.run_protocol(protocol_2, (host_A.host_id,))\n",
    "\"\"\"\n",
    "    host_C = Host('C')\n",
    "    host_C.add_connection('B')\n",
    "    host_C.start()\n",
    "\"\"\"\n",
    " \n",
    "    \n",
    "if __name__ == '__main__':\n",
    "    main()"
   ]
  }
 ],
 "metadata": {
  "kernelspec": {
   "display_name": "qunetsim2",
   "language": "python",
   "name": "python3"
  },
  "language_info": {
   "codemirror_mode": {
    "name": "ipython",
    "version": 3
   },
   "file_extension": ".py",
   "mimetype": "text/x-python",
   "name": "python",
   "nbconvert_exporter": "python",
   "pygments_lexer": "ipython3",
   "version": "3.13.0"
  }
 },
 "nbformat": 4,
 "nbformat_minor": 2
}
