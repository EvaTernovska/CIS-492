{
 "cells": [
  {
   "cell_type": "code",
   "execution_count": null,
   "metadata": {},
   "outputs": [
    {
     "name": "stdout",
     "output_type": "stream",
     "text": [
      "Receiver protocol done\n",
      "Sending EPR pair\n"
     ]
    },
    {
     "name": "stdout",
     "output_type": "stream",
     "text": [
      "Host 2 measured: 0\n",
      "Host 2 sent measurement result to Bob\n",
      "Host 1 measured: 1\n",
      "Host 1 sent measurement result to Bob\n",
      "Sender protocol done\n",
      "Computed parity at designated node: 1\n",
      "Parity check failed. Errors might have occurred.\n"
     ]
    }
   ],
   "source": [
    "import numpy as np\n",
    "from qunetsim.components import Host\n",
    "from qunetsim.components import Network\n",
    "from qunetsim.objects import Logger\n",
    "\n",
    "Logger.DISABLED = True\n",
    "def protocol_1(host, receiver, designated_node):\n",
    "    print('Sending EPR pair') #generate and send an epr pair\n",
    "    epr_id, ack_arrived = host.send_epr(receiver, await_ack=True)\n",
    "\n",
    "    if ack_arrived:\n",
    "        # measure the epr pair\n",
    "        q = host.get_epr(receiver, q_id=epr_id)\n",
    "        q_measurement = q.measure()\n",
    "        print(f'Host 1 measured: {q_measurement}')    \n",
    "        # Send measurement result to bob through a classical channel\n",
    "        host.send_classical(designated_node, str(q_measurement))\n",
    "        print(f'Host 1 sent measurement result to {designated_node}')\n",
    "    else:\n",
    "        print('The EPR pair was not properly established')\n",
    "    print('Sender protocol done')\n",
    "\n",
    "def protocol_2(host, sender, designated_node):\n",
    "    q = host.get_epr(sender, wait=5)\n",
    "    if q is not None:\n",
    "        host.x_error_rate=.5\n",
    "        if np.random.rand() < host.x_error_rate:\n",
    "            q.X()\n",
    "        q_measurement=q.measure()\n",
    "        print(f'Host 2 measured: {q_measurement}')\n",
    "        #implement classical channel\n",
    "        host.send_classical(designated_node, str(q_measurement))\n",
    "        print(f'Host 2 sent measurement result to {designated_node}')\n",
    "    else:\n",
    "        print('Host 2 did not receive an EPR pair')\n",
    "print('Receiver protocol done')\n",
    "\n",
    "def designated_protocol(host, node_1, node_2):\n",
    "    #get the classical messages\n",
    "    result1 = host.get_classical(node_1, wait=10)\n",
    "    result2 = host.get_classical(node_2, wait=10)\n",
    "    #get the state of the qubit. the results are a list, so need to extract the content and turn it into integers\n",
    "    result1_content=int(result1[0].content)\n",
    "    result2_content=int(result2[0].content)\n",
    "    #compute parity using a XOR gate \n",
    "    parity = result1_content ^ result2_content\n",
    "    print(f'Computed parity at designated node: {parity}')\n",
    "    if parity == 0:\n",
    "        print(\"Parity check passed. No errors detected in logical bits.\")\n",
    "    else:\n",
    "        print(\"Parity check failed. Errors might have occurred.\")\n",
    "\n",
    "def main():\n",
    "    #set up the network\n",
    "    network = Network.get_instance()\n",
    "    nodes = ['Alice', 'Bob', 'Eve']\n",
    "    network.start(nodes)\n",
    "\n",
    "    host_Alice = Host('Alice')\n",
    "    host_Alice.add_connection('Bob')\n",
    "    host_Alice.start()\n",
    "\n",
    "    host_Bob = Host('Bob')\n",
    "    host_Bob.add_connection('Alice')\n",
    "    host_Bob.add_connection('Eve')\n",
    "    host_Bob.start()\n",
    "\n",
    "    host_Eve = Host('Eve')\n",
    "    host_Eve.add_connection('Bob')\n",
    "    host_Eve.start()\n",
    "\n",
    "    network.add_host(host_Alice)\n",
    "    network.add_host(host_Bob)\n",
    "    network.add_host(host_Eve)\n",
    "\n",
    "    #Alice and Eve are hosts, Bob is a designated node \n",
    "    host_Alice.run_protocol(protocol_1, (host_Eve.host_id, host_Bob.host_id))\n",
    "    host_Eve.run_protocol(protocol_2, (host_Alice.host_id, host_Bob.host_id))\n",
    "    host_Bob.run_protocol(designated_protocol, ('Eve', 'Alice'))  \n",
    "    \n",
    "if __name__ == '__main__':\n",
    "    main()"
   ]
  }
 ],
 "metadata": {
  "kernelspec": {
   "display_name": "qunetsim2",
   "language": "python",
   "name": "python3"
  },
  "language_info": {
   "codemirror_mode": {
    "name": "ipython",
    "version": 3
   },
   "file_extension": ".py",
   "mimetype": "text/x-python",
   "name": "python",
   "nbconvert_exporter": "python",
   "pygments_lexer": "ipython3",
   "version": "3.13.0"
  }
 },
 "nbformat": 4,
 "nbformat_minor": 2
}
