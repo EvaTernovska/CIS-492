{
 "cells": [
  {
   "cell_type": "code",
   "execution_count": 1,
   "metadata": {},
   "outputs": [
    {
     "name": "stdout",
     "output_type": "stream",
     "text": [
      "Results of the measurement for q(id) are  1\n"
     ]
    }
   ],
   "source": [
    "from qunetsim.components import Host\n",
    "from qunetsim.components import Network\n",
    "from qunetsim.objects import Qubit\n",
    "\n",
    "def main():\n",
    "    network = Network.get_instance()\n",
    "    nodes = [\"Alice\", \"Eve\"]\n",
    "    network.start(nodes)\n",
    "    network.delay = 0.1\n",
    "\n",
    "    host_alice = Host(\"Alice\")\n",
    "    host_alice.add_connection(\"Eve\")\n",
    "    host_alice.start()\n",
    "\n",
    "    host_eve = Host(\"Eve\")\n",
    "    host_eve.add_connection(\"Alice\")\n",
    "    host_eve.start()\n",
    "\n",
    "    network.add_host(host_alice)\n",
    "    network.add_host(host_eve)\n",
    "    \n",
    "    q = Qubit(host_alice)\n",
    "    q.X()\n",
    "    q_id, _ = host_alice.send_qubit('Eve', q, await_ack=True)\n",
    "    q_rec = host_eve.get_qubit('Alice', q_id)\n",
    "\n",
    "    if q_rec is not None:\n",
    "        m = q_rec.measure()\n",
    "        print(\"Results of the measurement for q(id) are \", str(m))\n",
    "    else:\n",
    "        print (\"q_rec is none\")  \n",
    "            \n",
    "\n",
    "    network.stop(stop_hosts=True)\n",
    "\n",
    "if __name__ == '__main__':\n",
    "        main()"
   ]
  },
  {
   "cell_type": "code",
   "execution_count": null,
   "metadata": {},
   "outputs": [],
   "source": []
  }
 ],
 "metadata": {
  "kernelspec": {
   "display_name": "qunetsim2",
   "language": "python",
   "name": "python3"
  },
  "language_info": {
   "codemirror_mode": {
    "name": "ipython",
    "version": 3
   },
   "file_extension": ".py",
   "mimetype": "text/x-python",
   "name": "python",
   "nbconvert_exporter": "python",
   "pygments_lexer": "ipython3",
   "version": "3.13.0"
  }
 },
 "nbformat": 4,
 "nbformat_minor": 2
}
